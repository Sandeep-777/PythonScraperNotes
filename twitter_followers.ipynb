{
 "cells": [
  {
   "cell_type": "code",
   "execution_count": 1,
   "metadata": {},
   "outputs": [],
   "source": [
    "import twitter\n",
    "import time\n",
    "import os\n",
    "import pickle\n",
    "\n",
    "import glob\n",
    "import pandas as pd\n",
    "import re"
   ]
  },
  {
   "cell_type": "code",
   "execution_count": 2,
   "metadata": {},
   "outputs": [],
   "source": [
    "consumer_key = 'consumer_key'\n",
    "consumer_secret = 'consumer_secret'\n",
    "\n",
    "access_token = 'access_token'\n",
    "access_token_secret = 'access_token_secret'"
   ]
  },
  {
   "cell_type": "code",
   "execution_count": 3,
   "metadata": {},
   "outputs": [],
   "source": [
    "user_id = 'someid_in_integers'\n",
    "name = 'username'\n",
    "user_name = '@'+name"
   ]
  },
  {
   "cell_type": "code",
   "execution_count": 11,
   "metadata": {},
   "outputs": [],
   "source": [
    "if not os.path.isdir('followers'):\n",
    "    os.mkdir('followers')\n",
    "foldername = 'followers/'+name\n",
    "if not os.path.isdir(foldername):\n",
    "    os.mkdir(foldername)"
   ]
  },
  {
   "cell_type": "code",
   "execution_count": 4,
   "metadata": {},
   "outputs": [],
   "source": [
    "api = twitter.Api(consumer_key = consumer_key,\n",
    "                  consumer_secret = consumer_secret,\n",
    "                  access_token_key = access_token,\n",
    "                  access_token_secret = access_token_secret,\n",
    "                  sleep_on_rate_limit = True)"
   ]
  },
  {
   "cell_type": "code",
   "execution_count": null,
   "metadata": {},
   "outputs": [],
   "source": [
    "next_cursor = -1\n",
    "count = 0\n",
    "while(next_cursor != 0):\n",
    "    filename = 'followers/'+ name +'/follower-'+str(count)\n",
    "    print(filename)\n",
    "    try:\n",
    "        followers = api.GetFollowersPaged(user_id=user_id, cursor=next_cursor)\n",
    "        time.sleep(10)\n",
    "    except twitter.error.TwitterError:\n",
    "        print('delay')\n",
    "        time.sleep(60*15)\n",
    "        followers = api.GetFollowersPaged(user_id=user_id, cursor=next_cursor)\n",
    "    finally:\n",
    "        next_cursor = followers[0]\n",
    "        print(next_cursor)\n",
    "        count += 1\n",
    "        with open(filename, 'wb') as f:\n",
    "            pickle.dump(followers, f)"
   ]
  },
  {
   "cell_type": "markdown",
   "metadata": {},
   "source": [
    "Parse the saved files and list them in a csv file."
   ]
  },
  {
   "cell_type": "code",
   "execution_count": null,
   "metadata": {},
   "outputs": [],
   "source": [
    "filenames = glob.glob('followers/'+name+'/*')"
   ]
  },
  {
   "cell_type": "code",
   "execution_count": null,
   "metadata": {},
   "outputs": [],
   "source": [
    "df_arr = []\n",
    "d_arr = []\n",
    "for filename in filenames:\n",
    "    print(filename)\n",
    "    with open(filename, 'rb') as f:\n",
    "        file = pickle.load(f)\n",
    "        data = file[2]\n",
    "        for item in data:\n",
    "            d_arr.append(item.__dict__)"
   ]
  },
  {
   "cell_type": "code",
   "execution_count": null,
   "metadata": {},
   "outputs": [],
   "source": [
    "df = pd.DataFrame(d_arr)"
   ]
  },
  {
   "cell_type": "code",
   "execution_count": null,
   "metadata": {},
   "outputs": [],
   "source": [
    "df.to_csv('followers.csv', index=False, encoding='UTF-8')"
   ]
  }
 ],
 "metadata": {
  "kernelspec": {
   "display_name": "Python 3",
   "language": "python",
   "name": "python3"
  },
  "language_info": {
   "codemirror_mode": {
    "name": "ipython",
    "version": 3
   },
   "file_extension": ".py",
   "mimetype": "text/x-python",
   "name": "python",
   "nbconvert_exporter": "python",
   "pygments_lexer": "ipython3",
   "version": "3.7.1"
  }
 },
 "nbformat": 4,
 "nbformat_minor": 2
}
